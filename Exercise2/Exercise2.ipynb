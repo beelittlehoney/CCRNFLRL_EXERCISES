{
  "nbformat": 4,
  "nbformat_minor": 0,
  "metadata": {
    "colab": {
      "provenance": [],
      "include_colab_link": true
    },
    "kernelspec": {
      "name": "python3",
      "display_name": "Python 3"
    },
    "language_info": {
      "name": "python"
    }
  },
  "cells": [
    {
      "cell_type": "markdown",
      "metadata": {
        "id": "view-in-github",
        "colab_type": "text"
      },
      "source": [
        "<a href=\"https://colab.research.google.com/github/beelittlehoney/CCRNFLRL_EXERCISES/blob/main/Exercise2/Exercise2.ipynb\" target=\"_parent\"><img src=\"https://colab.research.google.com/assets/colab-badge.svg\" alt=\"Open In Colab\"/></a>"
      ]
    },
    {
      "cell_type": "markdown",
      "source": [
        "# Exercise 2"
      ],
      "metadata": {
        "id": "gh4_1T3XTRg6"
      }
    },
    {
      "cell_type": "code",
      "source": [
        "from math import sqrt, log\n",
        "import pandas as pd"
      ],
      "metadata": {
        "id": "-6zwzOH0TMq0"
      },
      "execution_count": 288,
      "outputs": []
    },
    {
      "cell_type": "markdown",
      "source": [
        "## Step 1: Enter your data\n",
        "\n",
        "Add a new row after each pull: Pull number, Machine played (\"A\", \"B\", \"C\"), and Reward earned."
      ],
      "metadata": {
        "id": "kZCcIK8dTkot"
      }
    },
    {
      "cell_type": "code",
      "source": [
        "data = pd.DataFrame({\n",
        "    \"Pull\": [1, 2, 3, 4, 5,\n",
        "             6, 7, 8, 9, 10,\n",
        "             11, 12, 13, 14, 15,\n",
        "             16, 17, 18, 19, 20,\n",
        "             21, 22, 23, 24, 25,\n",
        "             26, 27, 28, 29, 30,\n",
        "             31, 32, 33, 34, 35,\n",
        "             36, 37, 38, 39, 40,\n",
        "             41, 42, 43, 44, 45,\n",
        "             46, 47, 48, 49, 50], # Pull number\n",
        "    \"Machine\": [\"A\", \"B\", \"C\",\n",
        "                \"A\", \"B\", \"C\",\n",
        "                \"A\", \"B\", \"C\",\n",
        "                \"A\", \"A\", \"A\",\n",
        "                \"A\", \"A\", \"A\",\n",
        "                \"A\", \"A\", \"A\",\n",
        "                \"A\", \"A\", \"A\",\n",
        "                \"A\", \"A\", \"A\",\n",
        "                \"A\", \"A\", \"A\",\n",
        "                \"A\", \"A\", \"A\",\n",
        "                \"A\", \"A\", \"A\",\n",
        "                \"A\", \"A\", \"A\",\n",
        "                \"A\", \"A\", \"A\",\n",
        "                \"A\", \"A\", \"A\",\n",
        "                \"A\", \"A\", \"A\",\n",
        "                \"A\", \"A\", \"A\",\n",
        "                \"A\", \"A\"], # Which machine was played\n",
        "    \"Reward\": [0, 0, 0, 0, 0,\n",
        "               0, 0, 0, 0, 18,\n",
        "               3, 2, 0, 3, 2,\n",
        "               1, 100, 0, 0, 0,\n",
        "               0, 0, 0, 0, 0,\n",
        "               0, 0, 0, 0, 5,\n",
        "               5, 0, 0, 0, 0,\n",
        "               0, 0, 0, 3, 5,\n",
        "               1, 0, 1, 0, 0,\n",
        "               0, 2, 0, 0, 0] # Reward received from that machine\n",
        "})"
      ],
      "metadata": {
        "id": "_XJg9sNjTP9s"
      },
      "execution_count": 289,
      "outputs": []
    },
    {
      "cell_type": "markdown",
      "source": [
        "# Step 2: Calculate UCB"
      ],
      "metadata": {
        "id": "9pAruytjTt-b"
      }
    },
    {
      "cell_type": "code",
      "execution_count": 290,
      "metadata": {
        "id": "7iyebQ41S3pA"
      },
      "outputs": [],
      "source": [
        "def calculate_ucb(df):\n",
        "    results = []\n",
        "    total_pulls = len(df)\n",
        "    machines = sorted(df[\"Machine\"].unique())\n",
        "\n",
        "    for machine in machines:\n",
        "        machine_data = df[df[\"Machine\"] == machine]\n",
        "        n_j = len(machine_data)\n",
        "        avg_reward = machine_data[\"Reward\"].mean()\n",
        "        exploration_bonus = sqrt((2 * log(total_pulls)) / n_j) if n_j > 0 else float(\"inf\")\n",
        "        ucb_score = avg_reward + exploration_bonus\n",
        "        results.append({\n",
        "            \"Machine\": machine,\n",
        "            \"Pulls\": n_j,\n",
        "            \"Avg Reward\": round(avg_reward, 2),\n",
        "            \"Exploration Bonus\": round(exploration_bonus, 4),\n",
        "            \"UCB Score\": round(ucb_score, 4)\n",
        "        })\n",
        "    return pd.DataFrame(results).sort_values(by=\"UCB Score\", ascending=False)"
      ]
    },
    {
      "cell_type": "markdown",
      "source": [
        "\n",
        "# Step 3: Calculate and display\n"
      ],
      "metadata": {
        "id": "GmVaGjpdT4eA"
      }
    },
    {
      "cell_type": "code",
      "source": [
        "ucb_table = calculate_ucb(data)\n",
        "print(\"📊 UCB Results Table\")\n",
        "print(ucb_table)"
      ],
      "metadata": {
        "colab": {
          "base_uri": "https://localhost:8080/"
        },
        "id": "ZXBIvOEVTVND",
        "outputId": "af5e60e3-a97c-477c-9482-f9ee0af65221"
      },
      "execution_count": 291,
      "outputs": [
        {
          "output_type": "stream",
          "name": "stdout",
          "text": [
            "📊 UCB Results Table\n",
            "  Machine  Pulls  Avg Reward  Exploration Bonus  UCB Score\n",
            "0       A     45        3.36              0.418     3.7736\n",
            "1       B      3        0.00              1.619     1.6190\n",
            "2       C      3        0.00              1.619     1.6190\n"
          ]
        }
      ]
    },
    {
      "cell_type": "markdown",
      "source": [
        "# Step 4: Next machine suggestion"
      ],
      "metadata": {
        "id": "YURFdhQmUCjl"
      }
    },
    {
      "cell_type": "code",
      "source": [
        "best_machine = ucb_table.iloc[0][\"Machine\"]\n",
        "print(f\"\\n🎯 Recommended next machine to play: {best_machine}\")"
      ],
      "metadata": {
        "colab": {
          "base_uri": "https://localhost:8080/"
        },
        "id": "XufYOkGET_l-",
        "outputId": "298ed911-7fb9-4673-b44c-e1bbc75d024f"
      },
      "execution_count": 292,
      "outputs": [
        {
          "output_type": "stream",
          "name": "stdout",
          "text": [
            "\n",
            "🎯 Recommended next machine to play: A\n"
          ]
        }
      ]
    },
    {
      "cell_type": "markdown",
      "source": [
        "#REFLECTION\n",
        "## The most optimal Machine to win the bet than the rest is the Machine A"
      ],
      "metadata": {
        "id": "X15-WO1XV5LZ"
      }
    }
  ]
}